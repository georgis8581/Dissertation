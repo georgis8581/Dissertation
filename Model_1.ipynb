{
 "cells": [
  {
   "cell_type": "code",
   "execution_count": 6,
   "metadata": {},
   "outputs": [],
   "source": [
    "import pandas as pd\n",
    "import networkx as nx"
   ]
  },
  {
   "cell_type": "markdown",
   "metadata": {},
   "source": [
    "# data import"
   ]
  },
  {
   "cell_type": "code",
   "execution_count": 4,
   "metadata": {},
   "outputs": [],
   "source": [
    "data = pd.read_excel (r'Data.xlsx', sheet_name='nodes')\n",
    "df = pd.DataFrame (data, columns= ['node', 'demand'])\n",
    "demand = df['demand'].tolist()\n",
    "\n",
    "data1 = pd.read_excel (r'Data.xlsx', sheet_name='all_pairs')\n",
    "df1 = pd.DataFrame (data1, columns= ['origin', 'destination', 'weight'])"
   ]
  },
  {
   "cell_type": "markdown",
   "metadata": {},
   "source": [
    "# create network"
   ]
  },
  {
   "cell_type": "code",
   "execution_count": 5,
   "metadata": {},
   "outputs": [],
   "source": [
    "source = df1['origin'].tolist()\n",
    "target = df1['destination'].tolist()\n",
    "cost = df1['weight'].tolist()\n",
    "links = []\n",
    "for i in range(len(target)):\n",
    "    links.append((source[i], target[i], cost[i]))"
   ]
  },
  {
   "cell_type": "markdown",
   "metadata": {},
   "source": [
    "Add nodes and edges"
   ]
  },
  {
   "cell_type": "code",
   "execution_count": 7,
   "metadata": {},
   "outputs": [],
   "source": [
    "G = nx.DiGraph()\n",
    "G.add_nodes_from(nodes_for_adding=df['node'].tolist(), demand = demand)\n",
    "\n",
    "G.add_weighted_edges_from(links) "
   ]
  },
  {
   "cell_type": "code",
   "execution_count": null,
   "metadata": {},
   "outputs": [],
   "source": [
    "flowDict = nx.min_cost_flow(G)"
   ]
  }
 ],
 "metadata": {
  "kernelspec": {
   "display_name": "Python 3",
   "language": "python",
   "name": "python3"
  },
  "language_info": {
   "codemirror_mode": {
    "name": "ipython",
    "version": 3
   },
   "file_extension": ".py",
   "mimetype": "text/x-python",
   "name": "python",
   "nbconvert_exporter": "python",
   "pygments_lexer": "ipython3",
   "version": "3.7.1"
  }
 },
 "nbformat": 4,
 "nbformat_minor": 2
}
